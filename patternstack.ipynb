{
 "cells": [
  {
   "cell_type": "code",
   "execution_count": 5,
   "id": "b9a26388",
   "metadata": {},
   "outputs": [
    {
     "name": "stdout",
     "output_type": "stream",
     "text": [
      "enter the size of stack10\n"
     ]
    }
   ],
   "source": [
    "stack=[]\n",
    "size=int(input(\"enter the size of stack\"))\n",
    "top=-1\n",
    "def push(val):\n",
    "    global top\n",
    "    if top==(size-1):\n",
    "        print(\"Stack overflow\")\n",
    "    else:\n",
    "        stack.append(val)\n",
    "        top=top+1\n",
    "        \n",
    "def pop():\n",
    "    global top\n",
    "    if top==-1:    \n",
    "        print(\"stack underflow\")\n",
    "    else:\n",
    "        for i in range(len(stack)):\n",
    "            val=stack[top]\n",
    "            if val== 'a':\n",
    "                counta=counta+1\n",
    "            elif val=='b':\n",
    "                countb=countb+1\n",
    "            elif val=='c':\n",
    "                countc=countc+1\n",
    "                \n",
    "            stack.remove(stack[top])\n",
    "            top=top-1\n",
    "def patterncheck(counta,countb,countc):\n",
    "    if counta==countb:\n",
    "        print(\"pattern 1\")\n",
    "    elif counta==countc:\n",
    "        print(\"pattern 2\")\n",
    "    elif countb==countc:\n",
    "        print(\"pattern 3\")\n",
    "def peek():\n",
    "    global top\n",
    "    print(\"Top of Stack \", top)\n",
    "    print(\"Stack >>\",stack)\n",
    "        "
   ]
  },
  {
   "cell_type": "code",
   "execution_count": 7,
   "id": "3863db0f",
   "metadata": {},
   "outputs": [
    {
     "name": "stdout",
     "output_type": "stream",
     "text": [
      "1:PUSH  2:POP  4:PEEK   4:check4\n",
      "Top of Stack  0\n",
      "Stack >> ['a']\n",
      "1:PUSH  2:POP  4:PEEK   4:check1\n",
      "Enter the valuea\n",
      "1:PUSH  2:POP  4:PEEK   4:check1\n",
      "Enter the valuea\n",
      "1:PUSH  2:POP  4:PEEK   4:check1\n",
      "Enter the valueb\n",
      "1:PUSH  2:POP  4:PEEK   4:check1\n",
      "Enter the valueb\n",
      "1:PUSH  2:POP  4:PEEK   4:check1\n",
      "Enter the valueb\n",
      "1:PUSH  2:POP  4:PEEK   4:check1\n",
      "Enter the valuec\n",
      "1:PUSH  2:POP  4:PEEK   4:check4\n",
      "Top of Stack  6\n",
      "Stack >> ['a', 'a', 'a', 'b', 'b', 'b', 'c']\n",
      "1:PUSH  2:POP  4:PEEK   4:check3\n"
     ]
    },
    {
     "ename": "TypeError",
     "evalue": "patterncheck() missing 3 required positional arguments: 'counta', 'countb', and 'countc'",
     "output_type": "error",
     "traceback": [
      "\u001b[0;31m---------------------------------------------------------------------------\u001b[0m",
      "\u001b[0;31mTypeError\u001b[0m                                 Traceback (most recent call last)",
      "\u001b[0;32m/tmp/ipykernel_8822/691964447.py\u001b[0m in \u001b[0;36m<module>\u001b[0;34m\u001b[0m\n\u001b[1;32m      9\u001b[0m         \u001b[0mpop\u001b[0m\u001b[0;34m(\u001b[0m\u001b[0mval\u001b[0m\u001b[0;34m)\u001b[0m\u001b[0;34m\u001b[0m\u001b[0;34m\u001b[0m\u001b[0m\n\u001b[1;32m     10\u001b[0m     \u001b[0;32melif\u001b[0m \u001b[0mi\u001b[0m\u001b[0;34m==\u001b[0m\u001b[0;36m3\u001b[0m\u001b[0;34m:\u001b[0m\u001b[0;34m\u001b[0m\u001b[0;34m\u001b[0m\u001b[0m\n\u001b[0;32m---> 11\u001b[0;31m         \u001b[0mpatterncheck\u001b[0m\u001b[0;34m(\u001b[0m\u001b[0;34m)\u001b[0m\u001b[0;34m\u001b[0m\u001b[0;34m\u001b[0m\u001b[0m\n\u001b[0m\u001b[1;32m     12\u001b[0m     \u001b[0;32melif\u001b[0m \u001b[0mi\u001b[0m\u001b[0;34m==\u001b[0m\u001b[0;36m4\u001b[0m\u001b[0;34m:\u001b[0m\u001b[0;34m\u001b[0m\u001b[0;34m\u001b[0m\u001b[0m\n\u001b[1;32m     13\u001b[0m         \u001b[0mpeek\u001b[0m\u001b[0;34m(\u001b[0m\u001b[0;34m)\u001b[0m\u001b[0;34m\u001b[0m\u001b[0;34m\u001b[0m\u001b[0m\n",
      "\u001b[0;31mTypeError\u001b[0m: patterncheck() missing 3 required positional arguments: 'counta', 'countb', and 'countc'"
     ]
    }
   ],
   "source": [
    "while True:\n",
    "    i=int(input(\"1:PUSH  2:POP  4:PEEK   4:check\"))\n",
    "    \n",
    "    if i== 1:\n",
    "        val=input(\"Enter the value\")\n",
    "        push(val)\n",
    "    elif i==2:\n",
    "        val=input(\"Enter the value\")\n",
    "        pop(val)\n",
    "    elif i==3:\n",
    "        patterncheck()\n",
    "    elif i==4:\n",
    "        peek()\n",
    "        "
   ]
  },
  {
   "cell_type": "code",
   "execution_count": null,
   "id": "88c48b68",
   "metadata": {},
   "outputs": [],
   "source": []
  }
 ],
 "metadata": {
  "kernelspec": {
   "display_name": "Python 3 (ipykernel)",
   "language": "python",
   "name": "python3"
  },
  "language_info": {
   "codemirror_mode": {
    "name": "ipython",
    "version": 3
   },
   "file_extension": ".py",
   "mimetype": "text/x-python",
   "name": "python",
   "nbconvert_exporter": "python",
   "pygments_lexer": "ipython3",
   "version": "3.10.12"
  }
 },
 "nbformat": 4,
 "nbformat_minor": 5
}
