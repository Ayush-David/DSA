{
 "cells": [
  {
   "cell_type": "code",
   "execution_count": 1,
   "id": "395fa403",
   "metadata": {},
   "outputs": [
    {
     "name": "stdout",
     "output_type": "stream",
     "text": [
      "enter the size of stack : 10\n"
     ]
    }
   ],
   "source": [
    "stack=[]\n",
    "n=int(input(\"enter the size of stack : \"))\n",
    "size=n\n",
    "top=-1\n",
    "\n",
    "def push(val):\n",
    "    global top\n",
    "    if top==(size-1):\n",
    "        print(\"Stack over flow\")\n",
    "        \n",
    "    else:\n",
    "        stack.append(val)\n",
    "        top=top+1\n",
    "        \n",
    "def pop(val):\n",
    "    global top\n",
    "    if top==-1:\n",
    "        print(\"Stack underflow\")\n",
    "    \n",
    "    else:\n",
    "        if val ==stack[top]:\n",
    "            stack.remove(val)\n",
    "            top=top-1\n",
    "        else:\n",
    "            peek()\n",
    "            print(\"Enter the value at the top of stack\")\n",
    "def peek():\n",
    "    global top\n",
    "    print(\"Top of Stack \", top)\n",
    "    print(\"Stack >>\",stack)\n",
    "    \n",
    "    \n",
    "    \n",
    "\n",
    "        \n",
    "\n",
    "\n"
   ]
  },
  {
   "cell_type": "code",
   "execution_count": 2,
   "id": "3ffcb9e1",
   "metadata": {},
   "outputs": [
    {
     "name": "stdout",
     "output_type": "stream",
     "text": [
      "1:PUSH  2:POP  3:PEEK   4:Stop1\n",
      "Enter the value12\n",
      "1:PUSH  2:POP  3:PEEK   4:Stop1\n",
      "Enter the value23\n",
      "1:PUSH  2:POP  3:PEEK   4:Stop3\n",
      "Top of Stack  1\n",
      "Stack >> ['12', '23']\n",
      "1:PUSH  2:POP  3:PEEK   4:Stop2\n",
      "Enter the value23\n",
      "1:PUSH  2:POP  3:PEEK   4:Stop3\n",
      "Top of Stack  0\n",
      "Stack >> ['12']\n",
      "1:PUSH  2:POP  3:PEEK   4:Stop3\n",
      "Top of Stack  0\n",
      "Stack >> ['12']\n",
      "1:PUSH  2:POP  3:PEEK   4:Stop4\n"
     ]
    }
   ],
   "source": [
    "while True:\n",
    "    i=int(input(\"1:PUSH  2:POP  3:PEEK   4:Stop\"))\n",
    "    \n",
    "    if i== 1:\n",
    "        val=input(\"Enter the value\")\n",
    "        push(val)\n",
    "    elif i==2:\n",
    "        val=input(\"Enter the value\")\n",
    "        pop(val)\n",
    "    elif i==3:\n",
    "        peek()\n",
    "    elif i==4:\n",
    "        break"
   ]
  },
  {
   "cell_type": "code",
   "execution_count": null,
   "id": "bfd90e46",
   "metadata": {},
   "outputs": [],
   "source": []
  }
 ],
 "metadata": {
  "kernelspec": {
   "display_name": "Python 3 (ipykernel)",
   "language": "python",
   "name": "python3"
  },
  "language_info": {
   "codemirror_mode": {
    "name": "ipython",
    "version": 3
   },
   "file_extension": ".py",
   "mimetype": "text/x-python",
   "name": "python",
   "nbconvert_exporter": "python",
   "pygments_lexer": "ipython3",
   "version": "3.10.9"
  }
 },
 "nbformat": 4,
 "nbformat_minor": 5
}
