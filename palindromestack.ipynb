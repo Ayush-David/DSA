{
 "cells": [
  {
   "cell_type": "code",
   "execution_count": 3,
   "id": "5c3e1069",
   "metadata": {},
   "outputs": [
    {
     "name": "stdout",
     "output_type": "stream",
     "text": [
      "enter the size of array10\n"
     ]
    }
   ],
   "source": [
    "top=-1\n",
    "stack1=[]\n",
    "stack2=[]\n",
    "size=int(input(\"enter the size of array\"))\n",
    "\n",
    "def push(val):\n",
    "    global top\n",
    "    if top==(size-1):\n",
    "        print(\"stack overflow\")\n",
    "    else:\n",
    "        for char in val:\n",
    "            stack1.append(char)\n",
    "            top=top+1\n",
    "def pop():\n",
    "    global top\n",
    "    if top==-1:\n",
    "        print(\"stack underflow\")\n",
    "    else:\n",
    "        for i in range (len(stack1)):\n",
    "            stack2.append(stack1[top])\n",
    "            top=top-1\n",
    "            \n",
    "def palindrome(stack1,stack2):\n",
    "    for i in range(len(stack1)):\n",
    "        if stack1[i]==stack2[i]:\n",
    "            flag=True\n",
    "        else :\n",
    "            flag=False\n",
    "    return flag\n",
    "    \n",
    "def peek():\n",
    "    \n",
    "    global top\n",
    "    print(\"top :\",top)\n",
    "    print(\"word : \",stack1)\n",
    "    print(\"Reverse :\",stack2)\n",
    "    if palindrome(stack1,stack2)==True :\n",
    "        print(\"palindrome\")\n",
    "    else:\n",
    "        print(\"not palindrome\")\n",
    "    \n"
   ]
  },
  {
   "cell_type": "code",
   "execution_count": null,
   "id": "352c8a1b",
   "metadata": {},
   "outputs": [
    {
     "name": "stdout",
     "output_type": "stream",
     "text": [
      "1:PUSH  2:POP  3:PEEK   4:Stop1\n",
      "Enter the valuemalayalam\n",
      "1:PUSH  2:POP  3:PEEK   4:Stop2\n",
      "1:PUSH  2:POP  3:PEEK   4:Stop3\n",
      "top : -1\n",
      "word :  ['m', 'a', 'l', 'a', 'y', 'a', 'l', 'a', 'm']\n",
      "Reverse : ['m', 'a', 'l', 'a', 'y', 'a', 'l', 'a', 'm']\n",
      "palindrome\n"
     ]
    }
   ],
   "source": [
    "while True:\n",
    "    i=int(input(\"1:PUSH  2:POP  3:PEEK   4:Stop\"))\n",
    "    \n",
    "    if i== 1:\n",
    "        val=input(\"Enter the value\")\n",
    "        push(val)\n",
    "    elif i==2:\n",
    "        \n",
    "        pop()\n",
    "    elif i==3:\n",
    "        peek()\n",
    "    elif i==4:\n",
    "        break"
   ]
  },
  {
   "cell_type": "code",
   "execution_count": null,
   "id": "5584a8e0",
   "metadata": {},
   "outputs": [],
   "source": []
  }
 ],
 "metadata": {
  "kernelspec": {
   "display_name": "Python 3 (ipykernel)",
   "language": "python",
   "name": "python3"
  },
  "language_info": {
   "codemirror_mode": {
    "name": "ipython",
    "version": 3
   },
   "file_extension": ".py",
   "mimetype": "text/x-python",
   "name": "python",
   "nbconvert_exporter": "python",
   "pygments_lexer": "ipython3",
   "version": "3.10.12"
  }
 },
 "nbformat": 4,
 "nbformat_minor": 5
}
